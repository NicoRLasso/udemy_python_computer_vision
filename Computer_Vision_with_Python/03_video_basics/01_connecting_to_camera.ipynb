{
 "cells": [
  {
   "cell_type": "code",
   "execution_count": 23,
   "metadata": {},
   "outputs": [
    {
     "name": "stdout",
     "output_type": "stream",
     "text": [
      "Camera index available: 0\n"
     ]
    },
    {
     "name": "stderr",
     "output_type": "stream",
     "text": [
      "[ WARN:0@1405.075] global /home/conda/feedstock_root/build_artifacts/libopencv_1661642937705/work/modules/videoio/src/cap_v4l.cpp (902) open VIDEOIO(V4L2:/dev/video1): can't open camera by index\n"
     ]
    },
    {
     "name": "stdout",
     "output_type": "stream",
     "text": [
      "Camera index available: 2\n",
      "[0, 2]\n"
     ]
    },
    {
     "name": "stderr",
     "output_type": "stream",
     "text": [
      "[ WARN:0@1405.280] global /home/conda/feedstock_root/build_artifacts/libopencv_1661642937705/work/modules/videoio/src/cap_v4l.cpp (902) open VIDEOIO(V4L2:/dev/video3): can't open camera by index\n",
      "[ WARN:0@1405.280] global /home/conda/feedstock_root/build_artifacts/libopencv_1661642937705/work/modules/videoio/src/cap_v4l.cpp (902) open VIDEOIO(V4L2:/dev/video4): can't open camera by index\n",
      "[ WARN:0@1405.280] global /home/conda/feedstock_root/build_artifacts/libopencv_1661642937705/work/modules/videoio/src/cap_v4l.cpp (902) open VIDEOIO(V4L2:/dev/video5): can't open camera by index\n",
      "[ WARN:0@1405.280] global /home/conda/feedstock_root/build_artifacts/libopencv_1661642937705/work/modules/videoio/src/cap_v4l.cpp (902) open VIDEOIO(V4L2:/dev/video6): can't open camera by index\n",
      "[ WARN:0@1405.280] global /home/conda/feedstock_root/build_artifacts/libopencv_1661642937705/work/modules/videoio/src/cap_v4l.cpp (902) open VIDEOIO(V4L2:/dev/video7): can't open camera by index\n",
      "[ WARN:0@1405.280] global /home/conda/feedstock_root/build_artifacts/libopencv_1661642937705/work/modules/videoio/src/cap_v4l.cpp (902) open VIDEOIO(V4L2:/dev/video8): can't open camera by index\n",
      "[ WARN:0@1405.280] global /home/conda/feedstock_root/build_artifacts/libopencv_1661642937705/work/modules/videoio/src/cap_v4l.cpp (902) open VIDEOIO(V4L2:/dev/video9): can't open camera by index\n"
     ]
    }
   ],
   "source": [
    "## Function for knowing the index of all the cameras connected\n",
    "import cv2\n",
    "import numpy as np\n",
    "\n",
    "all_camera_idx_available = []\n",
    "\n",
    "for camera_idx in range(10):\n",
    "    cap = cv2.VideoCapture(camera_idx)\n",
    "    if cap.isOpened():\n",
    "        print(f'Camera index available: {camera_idx}')\n",
    "        all_camera_idx_available.append(camera_idx)\n",
    "        cap.release()\n",
    "        \n",
    "print(all_camera_idx_available)"
   ]
  },
  {
   "cell_type": "code",
   "execution_count": 30,
   "metadata": {},
   "outputs": [
    {
     "name": "stderr",
     "output_type": "stream",
     "text": [
      "OpenCV: FFMPEG: tag 0x44495658/'XVID' is not supported with codec id 12 and format 'mp4 / MP4 (MPEG-4 Part 14)'\n",
      "OpenCV: FFMPEG: fallback to use tag 0x7634706d/'mp4v'\n"
     ]
    }
   ],
   "source": [
    "cap = cv2.VideoCapture(2)\n",
    "\n",
    "width = int(cap.get(cv2.CAP_PROP_FRAME_WIDTH))\n",
    "height = int(cap.get(cv2.CAP_PROP_FRAME_HEIGHT))\n",
    "\n",
    "writer = cv2.VideoWriter('new_video.mp4',cv2.VideoWriter_fourcc(*'XVID'),20,(width,height))\n",
    "\n",
    "while True:\n",
    "    ret, frame = cap.read()\n",
    "\n",
    "    # OPERATIONS (DRAWING)\n",
    "    writer.write(frame)\n",
    "\n",
    "    cv2.imshow('frame',frame)\n",
    "\n",
    "    if cv2.waitKey(1) & 0xFF == ord('q'):\n",
    "        break\n",
    "\n",
    "# When everything done, release the capture\n",
    "cap.release()\n",
    "writer.release()\n",
    "\n",
    "cv2.destroyAllWindows()"
   ]
  }
 ],
 "metadata": {
  "kernelspec": {
   "display_name": "Python 3.9.13 ('python-cvcourse')",
   "language": "python",
   "name": "python3"
  },
  "language_info": {
   "codemirror_mode": {
    "name": "ipython",
    "version": 3
   },
   "file_extension": ".py",
   "mimetype": "text/x-python",
   "name": "python",
   "nbconvert_exporter": "python",
   "pygments_lexer": "ipython3",
   "version": "3.9.13"
  },
  "vscode": {
   "interpreter": {
    "hash": "dd93537ea69efb9dbf810c1745ef4f717fcf6de00f89261ddc0f357a3b10b134"
   }
  }
 },
 "nbformat": 4,
 "nbformat_minor": 2
}
