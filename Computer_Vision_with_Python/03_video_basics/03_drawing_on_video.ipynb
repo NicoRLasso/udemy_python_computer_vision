{
 "cells": [
  {
   "cell_type": "code",
   "execution_count": 2,
   "metadata": {},
   "outputs": [],
   "source": [
    "import cv2\n",
    "\n",
    "## CallBack function for drawing a rectangle\n",
    "\n",
    "def draw_rectangle(event,x,y,flags,param):\n",
    "    global pt1, pt2, topLeft_clicked, botRight_clicked\n",
    "    \n",
    "\n",
    "    if event == cv2.EVENT_LBUTTONDOWN:\n",
    "        \n",
    "        # RESET THE RECTANGLE\n",
    "        if topLeft_clicked and botRight_clicked:\n",
    "            pt1=(0,0)\n",
    "            pt2=(0,0)\n",
    "            topLeft_clicked=False\n",
    "            botRight_clicked=False\n",
    "        \n",
    "        if not topLeft_clicked:\n",
    "            pt1=(x,y)\n",
    "            topLeft_clicked=True\n",
    "        \n",
    "        elif not botRight_clicked:\n",
    "            pt2=(x,y)\n",
    "            botRight_clicked=True\n",
    "\n",
    "\n",
    "## Global variables\n",
    "pt1=(0,0)\n",
    "pt2=(0,0)\n",
    "topLeft_clicked = False\n",
    "botRight_clicked = False\n",
    "\n",
    "## connect the callback\n",
    "cap = cv2.VideoCapture(2)\n",
    "\n",
    "cv2.namedWindow(\"test\")\n",
    "cv2.setMouseCallback('test',draw_rectangle)\n",
    "while True:\n",
    "    ret, frame = cap.read()\n",
    "\n",
    "    ## Drawing on the frame based on the global variables\n",
    "    if topLeft_clicked:\n",
    "        cv2.circle(frame, center=pt1,radius=5 ,color=(0,0,255),thickness=-1)\n",
    "    if topLeft_clicked and botRight_clicked:\n",
    "        cv2.rectangle(frame, pt1, pt2,color=(0,0,255),thickness=3)\n",
    "\n",
    "    cv2.imshow('test', frame)\n",
    "\n",
    "    if cv2.waitKey(1) & 0xFF == ord(\"q\"):\n",
    "        break\n",
    "    \n",
    "\n",
    "cap.release()\n",
    "cv2.destroyAllWindows()\n"
   ]
  }
 ],
 "metadata": {
  "kernelspec": {
   "display_name": "Python 3.9.13 ('python-cvcourse')",
   "language": "python",
   "name": "python3"
  },
  "language_info": {
   "codemirror_mode": {
    "name": "ipython",
    "version": 3
   },
   "file_extension": ".py",
   "mimetype": "text/x-python",
   "name": "python",
   "nbconvert_exporter": "python",
   "pygments_lexer": "ipython3",
   "version": "3.9.13"
  },
  "vscode": {
   "interpreter": {
    "hash": "dd93537ea69efb9dbf810c1745ef4f717fcf6de00f89261ddc0f357a3b10b134"
   }
  }
 },
 "nbformat": 4,
 "nbformat_minor": 2
}
