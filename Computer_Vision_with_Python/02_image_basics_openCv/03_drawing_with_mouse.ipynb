{
 "cells": [
  {
   "cell_type": "code",
   "execution_count": null,
   "metadata": {},
   "outputs": [],
   "source": []
  }
 ],
 "metadata": {
  "kernelspec": {
   "display_name": "Python 3.9.13 ('python-cvcourse')",
   "language": "python",
   "name": "python3"
  },
  "language_info": {
   "name": "python",
   "version": "3.9.13"
  },
  "orig_nbformat": 4,
  "vscode": {
   "interpreter": {
    "hash": "dd93537ea69efb9dbf810c1745ef4f717fcf6de00f89261ddc0f357a3b10b134"
   }
  }
 },
 "nbformat": 4,
 "nbformat_minor": 2
}
